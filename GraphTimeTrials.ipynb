{
 "cells": [
  {
   "cell_type": "code",
   "execution_count": 1,
   "metadata": {
    "collapsed": false
   },
   "outputs": [
    {
     "name": "stdout",
     "output_type": "stream",
     "text": [
      "I got this path TimeTrials.txt\n"
     ]
    }
   ],
   "source": [
    "import ParseTimeTrials\n",
    "\n",
    "FilePath = \"TimeTrials.txt\"\n",
    "Parser = ParseTimeTrials.ParserClass()\n",
    "Parser.AddFiles(FilePath)\n",
    "Parser.Main()"
   ]
  },
  {
   "cell_type": "markdown",
   "metadata": {},
   "source": [
    "Now that the input file is parsed and put into containers, get ready to plot. \n",
    "For your information, the size of the dataset is 20,000 rows x 15,000 columns. This 20,000 is a nice number because that is the number of genes in the human genome. Therefore a comparison of gene expression data will typically be about this many rows. The computational complexity of each similarity algorithm grows with the number of rows, where as the number of comparisions done in the BSF is simply N^2 / 2. So for this comparison there are 112 million comparisons for the 'up regulated' matrix and 112 million comparisons for the 'down regulated' matrix. Making in total about 225 million comparisons.\n",
    "\n",
    "Some example output simply to look at."
   ]
  },
  {
   "cell_type": "code",
   "execution_count": 6,
   "metadata": {
    "collapsed": false
   },
   "outputs": [
    {
     "name": "stdout",
     "output_type": "stream",
     "text": [
      "dict_keys(['tanimoto', 'original popcount', 'adjusted popcount', 'cosine', 'euclidean'])\n"
     ]
    },
    {
     "data": {
      "text/plain": [
       "{1000: [5.3352341999999995, 7.5660485, 6.3736373, 5.5315531],\n",
       " 4000: [21.1693357, 23.1349483, 21.247336200000003, 21.247336200000003],\n",
       " 8000: [32.4638081, 33.6338156, 32.4326079, 32.5106084],\n",
       " 12000: [38.189044800000005, 38.4542465, 38.2670453, 38.2982455],\n",
       " 16000: [42.369871599999996,\n",
       "  42.1826704,\n",
       "  42.260670899999994,\n",
       "  42.260670899999994],\n",
       " 20000: [45.879894099999994, 45.458691400000006, 46.4316427, 45.7862935]}"
      ]
     },
     "execution_count": 6,
     "metadata": {},
     "output_type": "execute_result"
    }
   ],
   "source": [
    "#print out the keys for the bakeoff\n",
    "print (Parser.SeriesData.keys())\n",
    "Method = \"original popcount\"\n",
    "Parser.SeriesData[Method].AllData\n",
    "\n"
   ]
  },
  {
   "cell_type": "code",
   "execution_count": 7,
   "metadata": {
    "collapsed": false
   },
   "outputs": [
    {
     "data": {
      "text/plain": [
       "{1000: 6.2016182750000004,\n",
       " 4000: 21.699739100000002,\n",
       " 8000: 32.760210000000001,\n",
       " 12000: 38.302145525000007,\n",
       " 16000: 42.268470949999994,\n",
       " 20000: 45.889130424999998}"
      ]
     },
     "execution_count": 7,
     "metadata": {},
     "output_type": "execute_result"
    }
   ],
   "source": [
    "Parser.SeriesData[Method].AverageTime\n"
   ]
  },
  {
   "cell_type": "code",
   "execution_count": 8,
   "metadata": {
    "collapsed": false
   },
   "outputs": [
    {
     "data": {
      "text/plain": [
       "{1000: 0.87904338459726894,\n",
       " 4000: 0.82923006191783377,\n",
       " 8000: 0.50513981364616634,\n",
       " 12000: 0.096402433295959281,\n",
       " 16000: 0.066643656413663169,\n",
       " 20000: 0.35009215415786582}"
      ]
     },
     "execution_count": 8,
     "metadata": {},
     "output_type": "execute_result"
    }
   ],
   "source": [
    "Parser.SeriesData[Method].StdevTime"
   ]
  },
  {
   "cell_type": "code",
   "execution_count": 10,
   "metadata": {
    "collapsed": false
   },
   "outputs": [
    {
     "data": {
      "image/png": "[encoded data removed]",
      "text/plain": [
       "<matplotlib.figure.Figure at 0x625cb38>"
      ]
     },
     "metadata": {},
     "output_type": "display_data"
    }
   ],
   "source": [
    "#now I'm creating a function which predicts the response of various inputs (Signature Bit lengths)\n",
    "import numpy as np\n",
    "import matplotlib.pyplot as plt\n",
    "\n",
    "x = [1,2,3,4]\n",
    "y = [3,5,7,10] # 10, not 9, so the fit isn't perfect\n",
    "\n",
    "fit = np.polyfit(x,y,1)\n",
    "fit_fn = np.poly1d(fit) \n",
    "\n",
    "\n",
    "plt.plot(x,y, 'yo', x, fit_fn(x), '--k')\n",
    "plt.xlim(0, 5)\n",
    "plt.ylim(0, 12)\n",
    "plt.show()"
   ]
  },
  {
   "cell_type": "code",
   "execution_count": 10,
   "metadata": {
    "collapsed": false
   },
   "outputs": [],
   "source": [
    "import numpy as np\n",
    "import matplotlib.pyplot as plt\n",
    "\n"
   ]
  },
  {
   "cell_type": "code",
   "execution_count": 18,
   "metadata": {
    "collapsed": false
   },
   "outputs": [
    {
     "data": {
      "image/png": "[encoded data removed]",
      "text/plain": [
       "<matplotlib.figure.Figure at 0x813c2b0>"
      ]
     },
     "metadata": {},
     "output_type": "display_data"
    },
    {
     "name": "stdout",
     "output_type": "stream",
     "text": [
      "89.1058089087\n"
     ]
    }
   ],
   "source": [
    "#BitLengths = number of bits in a signature. called 'bl' for short\n",
    "bl = list(Parser.SeriesData[\"cosine\"].AverageTime.keys())\n",
    "cosine_observedtimes = list(Parser.SeriesData[\"cosine\"].AverageTime.values())\n",
    "euclidean_observedtimes = list(Parser.SeriesData[\"euclidean\"].AverageTime.values())\n",
    "bsf_observedtimes = list(Parser.SeriesData[\"original popcount\"].AverageTime.values())\n",
    "\n",
    "#now make fit functions, like in an example that I found online\n",
    "#(http://stackoverflow.com/questions/6148207/linear-regression-with-matplotlib-numpy)\n",
    "#all functions have the same bit length, so they all use 'bl' as the x coordinate\n",
    "fit_cosine = np.polyfit(bl, cosine_observedtimes, 1)\n",
    "fit_cosine_fx = np.poly1d(fit_cosine)\n",
    "fit_euclidean = np.polyfit(bl, euclidean_observedtimes, 1)\n",
    "fit_euclidean_fx = np.poly1d(fit_euclidean)\n",
    "fit_bsf = np.polyfit(bl, bsf_observedtimes, 1)\n",
    "fit_bsf_fx = np.poly1d(fit_bsf)\n",
    "\n",
    "#show the fit function, just for fun\n",
    "plt.plot(bl, bsf_observedtimes, 'yo', bl, fit_bsf_fx(bl), '--k')\n",
    "#plt.plot(bl, cosine_observedtimes, 'yo', bl, fit_cosine_fx(bl), '--k')\n",
    "#plt.plot(bl, euclidean_observedtimes, 'yo', bl, fit_euclidean_fx(bl), '--k')\n",
    "plt.show()\n",
    "\n",
    "#Now let's ask my program how long this will take for some obsenely long bit signature, like 40,000\n",
    "time_bsf_40k = fit_bsf_fx(40000)\n",
    "print (time_bsf_40k)\n"
   ]
  },
  {
   "cell_type": "code",
   "execution_count": 9,
   "metadata": {
    "collapsed": false
   },
   "outputs": [
    {
     "data": {
      "image/png": "[encoded data removed]",
      "text/plain": [
       "<matplotlib.figure.Figure at 0x7ce5470>"
      ]
     },
     "metadata": {},
     "output_type": "display_data"
    }
   ],
   "source": [
    "plt.plot(bl, cosine_observedtimes, 'rs', bl, euclidean_observedtimes, 'bs', bl, bsf_observedtimes, 'gs') #inexplicably 'rs' means red square\n",
    "plt.show()"
   ]
  }
 ],
 "metadata": {
  "anaconda-cloud": {},
  "kernelspec": {
   "display_name": "Python [default]",
   "language": "python",
   "name": "python3"
  },
  "language_info": {
   "codemirror_mode": {
    "name": "ipython",
    "version": 3
   },
   "file_extension": ".py",
   "mimetype": "text/x-python",
   "name": "python",
   "nbconvert_exporter": "python",
   "pygments_lexer": "ipython3",
   "version": "3.5.2"
  }
 },
 "nbformat": 4,
 "nbformat_minor": 1
}
