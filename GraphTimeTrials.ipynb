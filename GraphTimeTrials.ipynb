{
 "cells": [
  {
   "cell_type": "code",
   "execution_count": 1,
   "metadata": {
    "collapsed": false
   },
   "outputs": [
    {
     "name": "stdout",
     "output_type": "stream",
     "text": [
      "I got this path TimeTrials.txt\n"
     ]
    }
   ],
   "source": [
    "import ParseTimeTrials\n",
    "\n",
    "FilePath = \"TimeTrials.txt\"\n",
    "Parser = ParseTimeTrials.ParserClass()\n",
    "Parser.AddFiles(FilePath)\n",
    "Parser.Main()"
   ]
  },
  {
   "cell_type": "markdown",
   "metadata": {},
   "source": [
    "Now that the input file is parsed and put into containers, get ready to plot. Some example output simply to look at."
   ]
  },
  {
   "cell_type": "code",
   "execution_count": 2,
   "metadata": {
    "collapsed": false
   },
   "outputs": [
    {
     "data": {
      "text/plain": [
       "{1000: [319.0348419, 319.1312457, 318.8989524, 318.3046302],\n",
       " 4000: [1223.2818415000002, 1224.60785, 1223.7342444, 1222.6266373],\n",
       " 8000: [2430.3948357000004, 2431.323804, 2429.4503733, 2429.4343134],\n",
       " 12000: [3637.5065172, 3640.0181333, 3639.2849286, 3637.7561188],\n",
       " 16000: [4848.9166826, 4852.925908300001, 4842.9163842, 4846.171065],\n",
       " 20000: [6048.3615713, 6052.2303961, 6039.7035158, 6040.9983241]}"
      ]
     },
     "execution_count": 2,
     "metadata": {},
     "output_type": "execute_result"
    }
   ],
   "source": [
    "Parser.SeriesData[\"cosine\"].AllData\n",
    "\n"
   ]
  },
  {
   "cell_type": "code",
   "execution_count": 3,
   "metadata": {
    "collapsed": false
   },
   "outputs": [
    {
     "data": {
      "text/plain": [
       "{1000: 318.84241755000005,\n",
       " 4000: 1223.5626433000002,\n",
       " 8000: 2430.1508315999999,\n",
       " 12000: 3638.6414244749999,\n",
       " 16000: 4847.732510025,\n",
       " 20000: 6045.3234518250001}"
      ]
     },
     "execution_count": 3,
     "metadata": {},
     "output_type": "execute_result"
    }
   ],
   "source": [
    "Parser.SeriesData[\"cosine\"].AverageTime\n"
   ]
  },
  {
   "cell_type": "code",
   "execution_count": 4,
   "metadata": {
    "collapsed": false
   },
   "outputs": [
    {
     "data": {
      "text/plain": [
       "{1000: 0.32127101246061762,\n",
       " 4000: 0.72056590020714428,\n",
       " 8000: 0.78093572285893975,\n",
       " 12000: 1.0465664585634742,\n",
       " 16000: 3.6744669293140793,\n",
       " 20000: 5.1775105003511097}"
      ]
     },
     "execution_count": 4,
     "metadata": {},
     "output_type": "execute_result"
    }
   ],
   "source": [
    "Parser.SeriesData[\"cosine\"].StdevTime"
   ]
  },
  {
   "cell_type": "code",
   "execution_count": 10,
   "metadata": {
    "collapsed": false
   },
   "outputs": [],
   "source": [
    "import numpy as np\n",
    "import matplotlib.pyplot as plt\n",
    "\n"
   ]
  },
  {
   "cell_type": "code",
   "execution_count": 9,
   "metadata": {
    "collapsed": false
   },
   "outputs": [
    {
     "data": {
      "image/png": "[encoded data removed]",
      "text/plain": [
       "<matplotlib.figure.Figure at 0x7ce5470>"
      ]
     },
     "metadata": {},
     "output_type": "display_data"
    }
   ],
   "source": [
    "#BitLengths = number of bits in a signature. called 'bl' for this plot\n",
    "bl = list(Parser.SeriesData[\"cosine\"].AverageTime.keys())\n",
    "cosine_observedtimes = list(Parser.SeriesData[\"cosine\"].AverageTime.values())\n",
    "euclidean_observedtimes = list(Parser.SeriesData[\"euclidean\"].AverageTime.values())\n",
    "bsf_observedtimes = list(Parser.SeriesData[\"original popcount\"].AverageTime.values())\n",
    "plt.plot(bl, cosine_observedtimes, 'rs', bl, euclidean_observedtimes, 'bs', bl, bsf_observedtimes, 'gs') #inexplicably 'rs' means red square\n",
    "plt.show()"
   ]
  }
 ],
 "metadata": {
  "anaconda-cloud": {},
  "kernelspec": {
   "display_name": "Python [default]",
   "language": "python",
   "name": "python3"
  },
  "language_info": {
   "codemirror_mode": {
    "name": "ipython",
    "version": 3
   },
   "file_extension": ".py",
   "mimetype": "text/x-python",
   "name": "python",
   "nbconvert_exporter": "python",
   "pygments_lexer": "ipython3",
   "version": "3.5.2"
  }
 },
 "nbformat": 4,
 "nbformat_minor": 1
}
